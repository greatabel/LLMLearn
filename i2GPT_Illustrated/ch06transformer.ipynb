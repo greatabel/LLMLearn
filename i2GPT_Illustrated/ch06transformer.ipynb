{
 "cells": [
  {
   "cell_type": "code",
   "execution_count": null,
   "id": "1fa36d4e-ee56-4e7d-b905-2ff2b005cccd",
   "metadata": {},
   "outputs": [],
   "source": [
    "import numpy as np # 导入 numpy 库\n",
    "import torch # 导入 torch 库\n",
    "import torch.nn as nn # 导入 torch.nn 库"
   ]
  },
  {
   "cell_type": "code",
   "execution_count": null,
   "id": "cf970559-1912-4c07-a629-32c824b65efd",
   "metadata": {},
   "outputs": [],
   "source": []
  },
  {
   "cell_type": "code",
   "execution_count": null,
   "id": "3c329ca2-a78b-4416-8606-ab4b5ab6b003",
   "metadata": {},
   "outputs": [],
   "source": []
  },
  {
   "cell_type": "code",
   "execution_count": null,
   "id": "b5487e40-52f2-4e4f-bc1a-d3872420c75a",
   "metadata": {},
   "outputs": [],
   "source": []
  },
  {
   "cell_type": "code",
   "execution_count": null,
   "id": "1417f9e2-45d5-4730-a31c-ee7c3e411fca",
   "metadata": {},
   "outputs": [],
   "source": []
  }
 ],
 "metadata": {
  "kernelspec": {
   "display_name": "Python 3 (ipykernel)",
   "language": "python",
   "name": "python3"
  },
  "language_info": {
   "codemirror_mode": {
    "name": "ipython",
    "version": 3
   },
   "file_extension": ".py",
   "mimetype": "text/x-python",
   "name": "python",
   "nbconvert_exporter": "python",
   "pygments_lexer": "ipython3",
   "version": "3.9.18"
  }
 },
 "nbformat": 4,
 "nbformat_minor": 5
}
